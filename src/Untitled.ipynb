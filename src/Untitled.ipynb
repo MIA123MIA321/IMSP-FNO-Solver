{
 "cells": [
  {
   "cell_type": "code",
   "execution_count": 4,
   "id": "791edff8-1aa8-421b-9f15-2724120bdcd4",
   "metadata": {},
   "outputs": [],
   "source": [
    "import re\n",
    "import argparse\n",
    "import matplotlib.pyplot as plt\n",
    "import numpy as np\n",
    "from collections import OrderedDict\n",
    "import sys\n",
    "PROJECT_DIR = '/data/liuziyang/Programs/pde_solver/'\n",
    "sys.path.append(PROJECT_DIR)"
   ]
  },
  {
   "cell_type": "code",
   "execution_count": 5,
   "id": "838f2eb9-92a0-43da-bd2d-c9fcb9476943",
   "metadata": {},
   "outputs": [],
   "source": [
    "filename = '/data/liuziyang/Programs/pde_solver/.tmp.log'\n",
    "output_filename = '/data/liuziyang/Programs/pde_solver/logs/output_k_TEST.log'"
   ]
  },
  {
   "cell_type": "code",
   "execution_count": 7,
   "id": "ca703ab8-37b7-4ec3-9b06-7d29febc80d3",
   "metadata": {},
   "outputs": [],
   "source": [
    "J_list = []\n",
    "Find_Tnf = False\n",
    "Tnf_list = []\n",
    "Tit_list = []\n",
    "tmp_filename = PROJECT_DIR + '.tmp.log'\n",
    "for line in open(filename, \"r\", encoding='UTF-8'):\n",
    "    search_ = re.findall('f=  .*? ', line)\n",
    "    if Find_Tnf:\n",
    "        T_tmp = re.findall(r'\\d+', re.sub(r'\\s+', ' ', line))\n",
    "        Tit_list.append(int(T_tmp[1]))\n",
    "        Tnf_list.append(int(T_tmp[2]))\n",
    "    search_Tnf = re.findall('Tnf  Tnint', line)\n",
    "    if len(search_Tnf) > 0:\n",
    "        Find_Tnf = True\n",
    "    else:\n",
    "        Find_Tnf = False\n",
    "    if len(search_) > 0:\n",
    "        a = search_[0]\n",
    "        J_list.append(eval(a[4:-5] + 'e' + a[-4:-1]))\n",
    "start_id = 0\n",
    "end_id = 0\n",
    "J_output = []\n",
    "for i in range(len(Tit_list)):\n",
    "    end_id =  start_id + Tit_list[i] + 1\n",
    "    J_tmp = J_list[start_id:end_id]\n",
    "    J_tmp = [i / J_tmp[0] for i in J_tmp]\n",
    "    start_id = end_id\n",
    "    J_output += J_tmp"
   ]
  },
  {
   "cell_type": "code",
   "execution_count": 21,
   "id": "8db72439-1c1e-45bb-8486-4c8dd1514cc8",
   "metadata": {},
   "outputs": [],
   "source": [
    "for line in open(output_filename, \"r\", encoding='UTF-8'):\n",
    "    search_t_total = re.findall('t_total=.*?\\n', line)\n",
    "    if len(search_t_total) == 1:\n",
    "        t_total_tmp = eval(search_t_total[0][8:-1])\n",
    "        try:\n",
    "            t_total_list = list(t_total_tmp)\n",
    "        except:\n",
    "            t_total_list = [t_total_tmp]\n",
    "Tnf_str = ''\n",
    "Tit_str = ''\n",
    "t_avg_str = ''\n",
    "for i in range(len(Tit_list)):\n",
    "    Tnf_str += str(Tnf_list[i])[:5] + ','\n",
    "    Tit_str += str(Tit_list[i])[:5] + ','\n",
    "    t_avg_str += str(t_total_list[i]/Tnf_list[i])[:5] + ','"
   ]
  },
  {
   "cell_type": "code",
   "execution_count": 22,
   "id": "5cbe5e3f-cfce-4352-943f-205fe79dfb2e",
   "metadata": {},
   "outputs": [
    {
     "data": {
      "text/plain": [
       "[12]"
      ]
     },
     "execution_count": 22,
     "metadata": {},
     "output_type": "execute_result"
    }
   ],
   "source": [
    "Tit_list"
   ]
  },
  {
   "cell_type": "code",
   "execution_count": 13,
   "id": "87073190-e221-49ba-ac54-db750ac770c7",
   "metadata": {},
   "outputs": [
    {
     "data": {
      "text/plain": [
       "[1, 2]"
      ]
     },
     "execution_count": 13,
     "metadata": {},
     "output_type": "execute_result"
    }
   ],
   "source": [
    "list(a)"
   ]
  },
  {
   "cell_type": "code",
   "execution_count": 17,
   "id": "50e8e1b3-ab55-4291-b23a-537f135400ee",
   "metadata": {},
   "outputs": [
    {
     "ename": "TypeError",
     "evalue": "'int' object is not iterable",
     "output_type": "error",
     "traceback": [
      "\u001b[0;31m---------------------------------------------------------------------------\u001b[0m",
      "\u001b[0;31mTypeError\u001b[0m                                 Traceback (most recent call last)",
      "\u001b[0;32m/tmp/ipykernel_3214660/145731533.py\u001b[0m in \u001b[0;36m<module>\u001b[0;34m\u001b[0m\n\u001b[0;32m----> 1\u001b[0;31m \u001b[0mtuple\u001b[0m\u001b[0;34m(\u001b[0m\u001b[0;36m1\u001b[0m\u001b[0;34m)\u001b[0m\u001b[0;34m\u001b[0m\u001b[0;34m\u001b[0m\u001b[0m\n\u001b[0m",
      "\u001b[0;31mTypeError\u001b[0m: 'int' object is not iterable"
     ]
    }
   ],
   "source": [
    "tuple(1)"
   ]
  },
  {
   "cell_type": "code",
   "execution_count": null,
   "id": "5a9a3e41-ec76-49ce-9326-3cd305c210be",
   "metadata": {},
   "outputs": [],
   "source": []
  }
 ],
 "metadata": {
  "kernelspec": {
   "display_name": "Python [conda env:py37] *",
   "language": "python",
   "name": "conda-env-py37-py"
  },
  "language_info": {
   "codemirror_mode": {
    "name": "ipython",
    "version": 3
   },
   "file_extension": ".py",
   "mimetype": "text/x-python",
   "name": "python",
   "nbconvert_exporter": "python",
   "pygments_lexer": "ipython3",
   "version": "3.7.13"
  }
 },
 "nbformat": 4,
 "nbformat_minor": 5
}
