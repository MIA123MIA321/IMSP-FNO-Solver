{
 "cells": [
  {
   "cell_type": "code",
   "execution_count": 1,
   "id": "65786d70-321b-46e5-a1b4-a340cdaa19ec",
   "metadata": {},
   "outputs": [],
   "source": [
    "from Inverse import *\n",
    "from q_method import *"
   ]
  },
  {
   "cell_type": "code",
   "execution_count": 3,
   "id": "2dc0d1dc-a49c-4e2c-9edc-10fd7b43d003",
   "metadata": {},
   "outputs": [],
   "source": [
    "N = 64\n",
    "k = [20]\n",
    "m = 64\n",
    "maxq = 0.1\n",
    "q_method = 'G'\n",
    "noise_level = 0.0\n",
    "gtol = 1e-10\n",
    "maxiter = 20"
   ]
  },
  {
   "cell_type": "code",
   "execution_count": 4,
   "id": "fd25b45e-4e13-47c3-b966-b58ba093e0cd",
   "metadata": {},
   "outputs": [],
   "source": [
    "sys.path.append('/data/liuziyang/Programs/pde_solver')\n",
    "if isinstance(k,str):\n",
    "    tmp_k = k.split(',')\n",
    "    k = [float(eval(item)) for item in tmp_k]\n",
    "k_len = len(k)\n",
    "NET = torch.load('/data/liuziyang/Programs/pde_solver/Network/k40_P_4,64,uniform_G_0.1_NST_R200_12,32,4_1.pth')\n",
    "q = q_gen(N, q_method, maxq)\n",
    "Q = q.reshape(-1, )\n",
    "Q0 = Q*0\n",
    "matrix_A = gen_A(N)\n",
    "Matrix_analysis(N)\n",
    "f_data = np.zeros((k_len,m,(N+1)**2),dtype = np.complex128)\n",
    "partial_data = np.zeros((k_len,m,4*N-4),dtype = np.complex128)\n",
    "for j in range(k_len):\n",
    "    f_data[j] = f_gen(N, k[j], m)\n",
    "    partial_data[j] = pdata_gen(N, Q, k[j], f_data[j], matrix_A,noise_level)\n",
    "\n",
    "f_data_torch = torch.stack([torch.from_numpy(f_data.reshape(k_len,m,(N+1),(N+1)).real).to(torch.float32).to(device),\n",
    "                           torch.from_numpy(f_data.reshape(k_len,m,(N+1),(N+1)).imag).to(torch.float32).to(device)],2)\n",
    "partial_data_torch = torch.stack([torch.from_numpy(partial_data.reshape(k_len,m,4*N-4).real).to(torch.float32).to(device),\n",
    "                           torch.from_numpy(partial_data.reshape(k_len,m,4*N-4).imag).to(torch.float32).to(device)],2)\n",
    "matrix_A_torch = torch.from_numpy(matrix_A).to(torch.float32).to(device)\n",
    "matrix_A_torch = matrix_A_torch.unsqueeze(0).unsqueeze(1).repeat(m,2,1,1)\n",
    "f_data = (f_data, f_data_torch)\n",
    "partial_data = (partial_data,partial_data_torch)\n",
    "matrix_A = (matrix_A,matrix_A_torch)"
   ]
  },
  {
   "cell_type": "code",
   "execution_count": 5,
   "id": "eccaeadc-f2e4-431c-8957-bf8a29001a40",
   "metadata": {},
   "outputs": [
    {
     "name": "stdout",
     "output_type": "stream",
     "text": [
      "value\n",
      "value\n",
      "value\n",
      "value\n",
      "value\n",
      "value\n",
      "value\n",
      "value\n",
      "1.31 s ± 211 ms per loop (mean ± std. dev. of 7 runs, 1 loop each)\n",
      "value\n",
      "value\n",
      "value\n",
      "value\n",
      "value\n",
      "value\n",
      "value\n",
      "value\n",
      "value\n",
      "value\n",
      "value\n",
      "value\n",
      "value\n",
      "value\n",
      "value\n",
      "value\n",
      "value\n",
      "value\n",
      "value\n",
      "value\n",
      "value\n",
      "value\n",
      "value\n",
      "value\n",
      "value\n",
      "value\n",
      "value\n",
      "value\n",
      "value\n",
      "value\n",
      "value\n",
      "value\n",
      "value\n",
      "value\n",
      "value\n",
      "value\n",
      "value\n",
      "value\n",
      "value\n",
      "value\n",
      "value\n",
      "value\n",
      "value\n",
      "value\n",
      "value\n",
      "value\n",
      "value\n",
      "value\n",
      "value\n",
      "value\n",
      "value\n",
      "value\n",
      "value\n",
      "value\n",
      "value\n",
      "value\n",
      "value\n",
      "value\n",
      "value\n",
      "value\n",
      "value\n",
      "value\n",
      "value\n",
      "value\n",
      "value\n",
      "value\n",
      "value\n",
      "value\n",
      "value\n",
      "value\n",
      "value\n",
      "value\n",
      "value\n",
      "value\n",
      "value\n",
      "value\n",
      "value\n",
      "value\n",
      "value\n",
      "value\n",
      "value\n",
      "74.1 ms ± 94.2 µs per loop (mean ± std. dev. of 7 runs, 10 loops each)\n"
     ]
    },
    {
     "ename": "NameError",
     "evalue": "name 'data_np' is not defined",
     "output_type": "error",
     "traceback": [
      "\u001b[0;31m---------------------------------------------------------------------------\u001b[0m",
      "\u001b[0;31mNameError\u001b[0m                                 Traceback (most recent call last)",
      "\u001b[0;32m/tmp/ipykernel_2943024/2482823225.py\u001b[0m in \u001b[0;36m<module>\u001b[0;34m\u001b[0m\n\u001b[1;32m      1\u001b[0m \u001b[0mget_ipython\u001b[0m\u001b[0;34m(\u001b[0m\u001b[0;34m)\u001b[0m\u001b[0;34m.\u001b[0m\u001b[0mrun_line_magic\u001b[0m\u001b[0;34m(\u001b[0m\u001b[0;34m'timeit'\u001b[0m\u001b[0;34m,\u001b[0m \u001b[0;34m'data_np = J(Q,N,partial_data[0][0],k[0],f_data[0][0],matrix_A[0])'\u001b[0m\u001b[0;34m)\u001b[0m\u001b[0;34m\u001b[0m\u001b[0;34m\u001b[0m\u001b[0m\n\u001b[1;32m      2\u001b[0m \u001b[0mget_ipython\u001b[0m\u001b[0;34m(\u001b[0m\u001b[0;34m)\u001b[0m\u001b[0;34m.\u001b[0m\u001b[0mrun_line_magic\u001b[0m\u001b[0;34m(\u001b[0m\u001b[0;34m'timeit'\u001b[0m\u001b[0;34m,\u001b[0m \u001b[0;34m'data_torch = J_NET(Q,N,partial_data[1][0],k[0],f_data[1][0],matrix_A[1],NET,device,3)'\u001b[0m\u001b[0;34m)\u001b[0m\u001b[0;34m\u001b[0m\u001b[0;34m\u001b[0m\u001b[0m\n\u001b[0;32m----> 3\u001b[0;31m \u001b[0mprint\u001b[0m\u001b[0;34m(\u001b[0m\u001b[0;34m'MUMPS: {}, NET: {}'\u001b[0m\u001b[0;34m.\u001b[0m\u001b[0mformat\u001b[0m\u001b[0;34m(\u001b[0m\u001b[0mdata_np\u001b[0m\u001b[0;34m,\u001b[0m \u001b[0mdata_torch\u001b[0m\u001b[0;34m)\u001b[0m\u001b[0;34m)\u001b[0m\u001b[0;34m\u001b[0m\u001b[0;34m\u001b[0m\u001b[0m\n\u001b[0m",
      "\u001b[0;31mNameError\u001b[0m: name 'data_np' is not defined"
     ]
    }
   ],
   "source": [
    "%timeit data_np = J(Q,N,partial_data[0][0],k[0],f_data[0][0],matrix_A[0])\n",
    "%timeit data_torch = J_NET(Q,N,partial_data[1][0],k[0],f_data[1][0],matrix_A[1],NET,device,3)\n",
    "print('MUMPS: {}, NET: {}'.format(data_np, data_torch))"
   ]
  },
  {
   "cell_type": "code",
   "execution_count": 6,
   "id": "08a9a56d-1508-4d27-9a05-7246e2839371",
   "metadata": {},
   "outputs": [
    {
     "name": "stdout",
     "output_type": "stream",
     "text": [
      "prime\n",
      "prime\n",
      "prime\n",
      "prime\n",
      "prime\n",
      "prime\n",
      "prime\n",
      "prime\n",
      "3 s ± 101 ms per loop (mean ± std. dev. of 7 runs, 1 loop each)\n",
      "prime\n",
      "prime\n",
      "prime\n",
      "prime\n",
      "prime\n",
      "prime\n",
      "prime\n",
      "prime\n",
      "204 ms ± 3.14 ms per loop (mean ± std. dev. of 7 runs, 1 loop each)\n"
     ]
    },
    {
     "ename": "NameError",
     "evalue": "name 'grad_torch' is not defined",
     "output_type": "error",
     "traceback": [
      "\u001b[0;31m---------------------------------------------------------------------------\u001b[0m",
      "\u001b[0;31mNameError\u001b[0m                                 Traceback (most recent call last)",
      "\u001b[0;32m/tmp/ipykernel_2943024/295836404.py\u001b[0m in \u001b[0;36m<module>\u001b[0;34m\u001b[0m\n\u001b[1;32m      1\u001b[0m \u001b[0mget_ipython\u001b[0m\u001b[0;34m(\u001b[0m\u001b[0;34m)\u001b[0m\u001b[0;34m.\u001b[0m\u001b[0mrun_line_magic\u001b[0m\u001b[0;34m(\u001b[0m\u001b[0;34m'timeit'\u001b[0m\u001b[0;34m,\u001b[0m \u001b[0;34m'grad_np = J_prime(Q,N,partial_data[0][0],k[0],f_data[0][0],matrix_A[0])'\u001b[0m\u001b[0;34m)\u001b[0m\u001b[0;34m\u001b[0m\u001b[0;34m\u001b[0m\u001b[0m\n\u001b[1;32m      2\u001b[0m \u001b[0mget_ipython\u001b[0m\u001b[0;34m(\u001b[0m\u001b[0;34m)\u001b[0m\u001b[0;34m.\u001b[0m\u001b[0mrun_line_magic\u001b[0m\u001b[0;34m(\u001b[0m\u001b[0;34m'timeit'\u001b[0m\u001b[0;34m,\u001b[0m \u001b[0;34m'grad_torch = J_prime_NET(Q,N,partial_data[1][0],k[0],f_data[1][0],matrix_A[1],NET,device,3)'\u001b[0m\u001b[0;34m)\u001b[0m\u001b[0;34m\u001b[0m\u001b[0;34m\u001b[0m\u001b[0m\n\u001b[0;32m----> 3\u001b[0;31m \u001b[0mheatmap_for_test\u001b[0m\u001b[0;34m(\u001b[0m\u001b[0mgrad_torch\u001b[0m\u001b[0;34m.\u001b[0m\u001b[0mreshape\u001b[0m\u001b[0;34m(\u001b[0m\u001b[0;36m65\u001b[0m\u001b[0;34m,\u001b[0m\u001b[0;36m65\u001b[0m\u001b[0;34m)\u001b[0m\u001b[0;34m,\u001b[0m\u001b[0mgrad_np\u001b[0m\u001b[0;34m.\u001b[0m\u001b[0mreshape\u001b[0m\u001b[0;34m(\u001b[0m\u001b[0;36m65\u001b[0m\u001b[0;34m,\u001b[0m\u001b[0;36m65\u001b[0m\u001b[0;34m)\u001b[0m\u001b[0;34m,\u001b[0m\u001b[0mlabel_list\u001b[0m\u001b[0;34m=\u001b[0m\u001b[0;34m[\u001b[0m\u001b[0;34m''\u001b[0m\u001b[0;34m,\u001b[0m\u001b[0;34m''\u001b[0m\u001b[0;34m,\u001b[0m\u001b[0;34m''\u001b[0m\u001b[0;34m]\u001b[0m\u001b[0;34m,\u001b[0m\u001b[0mloss\u001b[0m \u001b[0;34m=\u001b[0m \u001b[0;32mTrue\u001b[0m\u001b[0;34m)\u001b[0m\u001b[0;34m\u001b[0m\u001b[0;34m\u001b[0m\u001b[0m\n\u001b[0m",
      "\u001b[0;31mNameError\u001b[0m: name 'grad_torch' is not defined"
     ]
    }
   ],
   "source": [
    "%timeit grad_np = J_prime(Q,N,partial_data[0][0],k[0],f_data[0][0],matrix_A[0])\n",
    "%timeit grad_torch = J_prime_NET(Q,N,partial_data[1][0],k[0],f_data[1][0],matrix_A[1],NET,device,3)\n",
    "heatmap_for_test(grad_torch.reshape(65,65),grad_np.reshape(65,65),label_list=['','',''],loss = True)"
   ]
  }
 ],
 "metadata": {
  "kernelspec": {
   "display_name": "Python [conda env:py37] *",
   "language": "python",
   "name": "conda-env-py37-py"
  },
  "language_info": {
   "codemirror_mode": {
    "name": "ipython",
    "version": 3
   },
   "file_extension": ".py",
   "mimetype": "text/x-python",
   "name": "python",
   "nbconvert_exporter": "python",
   "pygments_lexer": "ipython3",
   "version": "3.7.13"
  }
 },
 "nbformat": 4,
 "nbformat_minor": 5
}
